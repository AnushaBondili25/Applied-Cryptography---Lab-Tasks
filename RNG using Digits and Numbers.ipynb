{
 "cells": [
  {
   "cell_type": "code",
   "execution_count": 5,
   "id": "bec278b2",
   "metadata": {},
   "outputs": [
    {
     "name": "stdout",
     "output_type": "stream",
     "text": [
      "Random String: mXEj8xCNu3y9\n"
     ]
    }
   ],
   "source": [
    "import time\n",
    "\n",
    "# Custom subset (digits + alphabets)\n",
    "charset = \"0123456789ABCDEFGHIJKLMNOPQRSTUVWXYZabcdefghijklmnopqrstuvwxyz\"\n",
    "\n",
    "# Simple Linear Congruential Generator (LCG)\n",
    "# Formula: X_{n+1} = (a * X_n + c) mod m\n",
    "def lcg(seed, length):\n",
    "    a = 1664525\n",
    "    c = 1013904223\n",
    "    m = 2**32\n",
    "    rand_nums = []\n",
    "    x = seed\n",
    "    for _ in range(length):\n",
    "        x = (a * x + c) % m\n",
    "        rand_nums.append(x)\n",
    "    return rand_nums\n",
    "\n",
    "# Generate a random string\n",
    "def generate_random_string(size):\n",
    "    # use current time as seed\n",
    "    seed = int(time.time() * 1000000) & 0xFFFFFFFF  \n",
    "    numbers = lcg(seed, size)\n",
    "    \n",
    "    result = \"\"\n",
    "    for n in numbers:\n",
    "        # map to charset\n",
    "        result += charset[n % len(charset)]\n",
    "    return result\n",
    "\n",
    "# Example usage\n",
    "print(\"Random String:\", generate_random_string(12))\n"
   ]
  }
 ],
 "metadata": {
  "kernelspec": {
   "display_name": "Python 3",
   "language": "python",
   "name": "python3"
  },
  "language_info": {
   "codemirror_mode": {
    "name": "ipython",
    "version": 3
   },
   "file_extension": ".py",
   "mimetype": "text/x-python",
   "name": "python",
   "nbconvert_exporter": "python",
   "pygments_lexer": "ipython3",
   "version": "3.13.5"
  }
 },
 "nbformat": 4,
 "nbformat_minor": 5
}
