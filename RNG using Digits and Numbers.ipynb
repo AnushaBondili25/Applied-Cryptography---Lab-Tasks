{
 "cells": [
  {
   "cell_type": "code",
   "execution_count": 8,
   "id": "bec278b2",
   "metadata": {},
   "outputs": [
    {
     "name": "stdout",
     "output_type": "stream",
     "text": [
      "Random String: STiDAriNuH6p\n",
      "Entropy per character: 5.95 bits\n",
      "Total entropy: 71.45 bits\n"
     ]
    }
   ],
   "source": [
    "import time\n",
    "import math\n",
    "\n",
    "# Step 1: Define charset (62 symbols: 0-9, A-Z, a-z)\n",
    "charset = \"0123456789ABCDEFGHIJKLMNOPQRSTUVWXYZabcdefghijklmnopqrstuvwxyz\"\n",
    "\n",
    "# Step 2: LCG function\n",
    "def lcg(seed, length):\n",
    "    a = 1664525       # Multiplier\n",
    "    c = 1013904223    # Increment\n",
    "    m = 2**32         # Modulus (32-bit)\n",
    "    rand_nums = []\n",
    "    x = seed\n",
    "    for _ in range(length):\n",
    "        x = (a * x + c) % m\n",
    "        rand_nums.append(x)\n",
    "    return rand_nums\n",
    "\n",
    "# Step 3: Generate random string using charset mapping\n",
    "def generate_random_string(size):\n",
    "    # Generate seed from current time (microseconds)\n",
    "    seed = int(time.time() * 1_000_000) & 0xFFFFFFFF\n",
    "    numbers = lcg(seed, size)\n",
    "\n",
    "    # Map each number to charset\n",
    "    result = \"\"\n",
    "    for n in numbers:\n",
    "        index = n % len(charset)  # ensure within [0,61]\n",
    "        result += charset[index]\n",
    "\n",
    "    # Entropy calculation\n",
    "    entropy_per_char = math.log2(len(charset))   # ≈ 5.95 bits\n",
    "    total_entropy = size * entropy_per_char\n",
    "\n",
    "    return result, entropy_per_char, total_entropy\n",
    "\n",
    "# Example usage\n",
    "random_str, entropy_per_char, total_entropy = generate_random_string(12)\n",
    "print(\"Random String:\", random_str)\n",
    "print(f\"Entropy per character: {entropy_per_char:.2f} bits\")\n",
    "print(f\"Total entropy: {total_entropy:.2f} bits\")\n"
   ]
  }
 ],
 "metadata": {
  "kernelspec": {
   "display_name": "Python 3",
   "language": "python",
   "name": "python3"
  },
  "language_info": {
   "codemirror_mode": {
    "name": "ipython",
    "version": 3
   },
   "file_extension": ".py",
   "mimetype": "text/x-python",
   "name": "python",
   "nbconvert_exporter": "python",
   "pygments_lexer": "ipython3",
   "version": "3.13.5"
  }
 },
 "nbformat": 4,
 "nbformat_minor": 5
}
